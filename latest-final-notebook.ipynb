{
 "cells": [
  {
   "cell_type": "code",
   "execution_count": 1,
   "id": "2c8e343b",
   "metadata": {
    "execution": {
     "iopub.execute_input": "2024-05-25T14:41:59.027232Z",
     "iopub.status.busy": "2024-05-25T14:41:59.026495Z",
     "iopub.status.idle": "2024-05-25T14:42:13.193708Z",
     "shell.execute_reply": "2024-05-25T14:42:13.192871Z"
    },
    "papermill": {
     "duration": 14.18119,
     "end_time": "2024-05-25T14:42:13.196080",
     "exception": false,
     "start_time": "2024-05-25T14:41:59.014890",
     "status": "completed"
    },
    "tags": []
   },
   "outputs": [
    {
     "name": "stderr",
     "output_type": "stream",
     "text": [
      "2024-05-25 14:42:00.934674: E external/local_xla/xla/stream_executor/cuda/cuda_dnn.cc:9261] Unable to register cuDNN factory: Attempting to register factory for plugin cuDNN when one has already been registered\n",
      "2024-05-25 14:42:00.934764: E external/local_xla/xla/stream_executor/cuda/cuda_fft.cc:607] Unable to register cuFFT factory: Attempting to register factory for plugin cuFFT when one has already been registered\n",
      "2024-05-25 14:42:01.078838: E external/local_xla/xla/stream_executor/cuda/cuda_blas.cc:1515] Unable to register cuBLAS factory: Attempting to register factory for plugin cuBLAS when one has already been registered\n"
     ]
    }
   ],
   "source": [
    "import tensorflow as tf\n",
    "import numpy as np\n",
    "import matplotlib.pyplot as plt\n",
    "%matplotlib inline\n",
    "import pandas as pd\n",
    "import math\n",
    "from tensorflow.keras.preprocessing.image import ImageDataGenerator\n",
    "from sklearn.metrics import confusion_matrix, classification_report\n",
    "import seaborn as sns\n",
    "import os\n",
    "from tensorflow import keras"
   ]
  },
  {
   "cell_type": "code",
   "execution_count": 2,
   "id": "0729c33d",
   "metadata": {
    "execution": {
     "iopub.execute_input": "2024-05-25T14:42:13.218996Z",
     "iopub.status.busy": "2024-05-25T14:42:13.218443Z",
     "iopub.status.idle": "2024-05-25T14:42:13.222538Z",
     "shell.execute_reply": "2024-05-25T14:42:13.221697Z"
    },
    "papermill": {
     "duration": 0.017204,
     "end_time": "2024-05-25T14:42:13.224538",
     "exception": false,
     "start_time": "2024-05-25T14:42:13.207334",
     "status": "completed"
    },
    "tags": []
   },
   "outputs": [],
   "source": [
    "# !pip install split-folders"
   ]
  },
  {
   "cell_type": "code",
   "execution_count": 3,
   "id": "c8582822",
   "metadata": {
    "execution": {
     "iopub.execute_input": "2024-05-25T14:42:13.244156Z",
     "iopub.status.busy": "2024-05-25T14:42:13.243892Z",
     "iopub.status.idle": "2024-05-25T14:42:13.247361Z",
     "shell.execute_reply": "2024-05-25T14:42:13.246646Z"
    },
    "papermill": {
     "duration": 0.015446,
     "end_time": "2024-05-25T14:42:13.249287",
     "exception": false,
     "start_time": "2024-05-25T14:42:13.233841",
     "status": "completed"
    },
    "tags": []
   },
   "outputs": [],
   "source": [
    "# import splitfolders\n",
    "# splitfolders.ratio('/kaggle/input/final-processed-data/Final Processed Data', output=\"/kaggle/working/ForModel\", seed=42, ratio=(.80, 0.2), group_prefix=None)"
   ]
  },
  {
   "cell_type": "code",
   "execution_count": 4,
   "id": "282855e1",
   "metadata": {
    "execution": {
     "iopub.execute_input": "2024-05-25T14:42:13.272406Z",
     "iopub.status.busy": "2024-05-25T14:42:13.272147Z",
     "iopub.status.idle": "2024-05-25T14:42:13.278164Z",
     "shell.execute_reply": "2024-05-25T14:42:13.277348Z"
    },
    "papermill": {
     "duration": 0.02318,
     "end_time": "2024-05-25T14:42:13.281852",
     "exception": false,
     "start_time": "2024-05-25T14:42:13.258672",
     "status": "completed"
    },
    "tags": []
   },
   "outputs": [],
   "source": [
    "# val_path = '/kaggle/working/ForModel/val'\n",
    "# train_path='/kaggle/working/ForModel/train'\n",
    "# #  Variables\n",
    "# img_height=224\n",
    "# img_width=224\n",
    "# epochs=100\n",
    "# batch_size=32\n",
    "\n",
    "# data_gen=ImageDataGenerator(\n",
    "#     rescale=1./255,\n",
    "#     shear_range=0.2,\n",
    "#     zoom_range=0.2,\n",
    "#     horizontal_flip=True,\n",
    "#     rotation_range=20,\n",
    "#     width_shift_range=0.1,\n",
    "#     height_shift_range=0.1\n",
    "# )\n",
    "# val_data_gen = ImageDataGenerator(rescale=1./255)\n"
   ]
  },
  {
   "cell_type": "code",
   "execution_count": 5,
   "id": "6e74d817",
   "metadata": {
    "execution": {
     "iopub.execute_input": "2024-05-25T14:42:13.307274Z",
     "iopub.status.busy": "2024-05-25T14:42:13.306601Z",
     "iopub.status.idle": "2024-05-25T14:42:13.311035Z",
     "shell.execute_reply": "2024-05-25T14:42:13.310349Z"
    },
    "papermill": {
     "duration": 0.019878,
     "end_time": "2024-05-25T14:42:13.313174",
     "exception": false,
     "start_time": "2024-05-25T14:42:13.293296",
     "status": "completed"
    },
    "tags": []
   },
   "outputs": [],
   "source": [
    "# train_dataset=data_gen.flow_from_directory(\n",
    "#     train_path,\n",
    "#     batch_size=batch_size,\n",
    "#     target_size=(224,224),\n",
    "#     class_mode='categorical',\n",
    "#     shuffle=True,\n",
    "#     seed=42\n",
    "# )\n",
    "# val_dataset = val_data_gen.flow_from_directory(\n",
    "#     val_path,\n",
    "#     batch_size=batch_size,\n",
    "#     target_size=(img_height, img_width),\n",
    "#     class_mode='categorical',\n",
    "#     shuffle=False,  # No need to shuffle for validation dataset\n",
    "#     seed=42\n",
    "# )"
   ]
  },
  {
   "cell_type": "code",
   "execution_count": 6,
   "id": "579cd6df",
   "metadata": {
    "execution": {
     "iopub.execute_input": "2024-05-25T14:42:13.335708Z",
     "iopub.status.busy": "2024-05-25T14:42:13.335353Z",
     "iopub.status.idle": "2024-05-25T14:42:13.339049Z",
     "shell.execute_reply": "2024-05-25T14:42:13.338186Z"
    },
    "papermill": {
     "duration": 0.016454,
     "end_time": "2024-05-25T14:42:13.340991",
     "exception": false,
     "start_time": "2024-05-25T14:42:13.324537",
     "status": "completed"
    },
    "tags": []
   },
   "outputs": [],
   "source": [
    "# # Model VGG16\n",
    "# base_model=tf.keras.applications.VGG16(\n",
    "#     include_top=False,\n",
    "#     weights='imagenet',\n",
    "#     input_shape=(img_width,img_height,3),\n",
    "# )\n",
    "  "
   ]
  },
  {
   "cell_type": "code",
   "execution_count": 7,
   "id": "bd328632",
   "metadata": {
    "execution": {
     "iopub.execute_input": "2024-05-25T14:42:13.361841Z",
     "iopub.status.busy": "2024-05-25T14:42:13.361582Z",
     "iopub.status.idle": "2024-05-25T14:42:13.365097Z",
     "shell.execute_reply": "2024-05-25T14:42:13.364240Z"
    },
    "papermill": {
     "duration": 0.015339,
     "end_time": "2024-05-25T14:42:13.366941",
     "exception": false,
     "start_time": "2024-05-25T14:42:13.351602",
     "status": "completed"
    },
    "tags": []
   },
   "outputs": [],
   "source": [
    "# base_model.trainable=False\n"
   ]
  },
  {
   "cell_type": "code",
   "execution_count": 8,
   "id": "79ba0015",
   "metadata": {
    "execution": {
     "iopub.execute_input": "2024-05-25T14:42:13.386868Z",
     "iopub.status.busy": "2024-05-25T14:42:13.386615Z",
     "iopub.status.idle": "2024-05-25T14:42:13.390583Z",
     "shell.execute_reply": "2024-05-25T14:42:13.389760Z"
    },
    "papermill": {
     "duration": 0.015943,
     "end_time": "2024-05-25T14:42:13.392547",
     "exception": false,
     "start_time": "2024-05-25T14:42:13.376604",
     "status": "completed"
    },
    "tags": []
   },
   "outputs": [],
   "source": [
    "# # building the model\n",
    "\n",
    "# inputs=keras.Input((img_width,img_height,3))\n",
    "\n",
    "# base_model=base_model(inputs,training=False)\n",
    "# # Add GlobalAveragePooling2D layer\n",
    "# avg_pool=tf.keras.layers.GlobalAveragePooling2D()(base_model)\n",
    "\n",
    "# layer=tf.keras.layers.Dense(units=128,activation='relu')(avg_pool)\n",
    "\n",
    "# outputs=tf.keras.layers.Dense(23,activation='softmax')(layer)\n",
    "\n",
    "# model=tf.keras.Model(inputs,outputs)\n",
    "# model.compile(optimizer=tf.keras.optimizers.Adam(0.0001),loss=tf.keras.losses.CategoricalFocalCrossentropy(from_logits=False),metrics=['accuracy'])\n",
    "# model.summary()\n"
   ]
  },
  {
   "cell_type": "code",
   "execution_count": 9,
   "id": "601cfc71",
   "metadata": {
    "execution": {
     "iopub.execute_input": "2024-05-25T14:42:13.412233Z",
     "iopub.status.busy": "2024-05-25T14:42:13.411999Z",
     "iopub.status.idle": "2024-05-25T14:42:13.415711Z",
     "shell.execute_reply": "2024-05-25T14:42:13.414760Z"
    },
    "papermill": {
     "duration": 0.015964,
     "end_time": "2024-05-25T14:42:13.417745",
     "exception": false,
     "start_time": "2024-05-25T14:42:13.401781",
     "status": "completed"
    },
    "tags": []
   },
   "outputs": [],
   "source": [
    "# rp=tf.keras.callbacks.ReduceLROnPlateau(\n",
    "#     monitor='accuracy',\n",
    "#     factor=0.2,\n",
    "#     min_lr=0.00001,\n",
    "#     verbose=1,\n",
    "#     patience=3,\n",
    "#     mode='max'\n",
    "# )"
   ]
  },
  {
   "cell_type": "code",
   "execution_count": 10,
   "id": "93b90b38",
   "metadata": {
    "execution": {
     "iopub.execute_input": "2024-05-25T14:42:13.437416Z",
     "iopub.status.busy": "2024-05-25T14:42:13.437137Z",
     "iopub.status.idle": "2024-05-25T14:42:13.440789Z",
     "shell.execute_reply": "2024-05-25T14:42:13.439973Z"
    },
    "papermill": {
     "duration": 0.015695,
     "end_time": "2024-05-25T14:42:13.442685",
     "exception": false,
     "start_time": "2024-05-25T14:42:13.426990",
     "status": "completed"
    },
    "tags": []
   },
   "outputs": [],
   "source": [
    "# history=model.fit(train_dataset,batch_size=batch_size,epochs=epochs,validation_data=val_dataset,callbacks=[rp])\n"
   ]
  },
  {
   "cell_type": "code",
   "execution_count": 11,
   "id": "00bcec30",
   "metadata": {
    "execution": {
     "iopub.execute_input": "2024-05-25T14:42:13.462780Z",
     "iopub.status.busy": "2024-05-25T14:42:13.462259Z",
     "iopub.status.idle": "2024-05-25T14:42:13.466130Z",
     "shell.execute_reply": "2024-05-25T14:42:13.465324Z"
    },
    "papermill": {
     "duration": 0.015847,
     "end_time": "2024-05-25T14:42:13.467964",
     "exception": false,
     "start_time": "2024-05-25T14:42:13.452117",
     "status": "completed"
    },
    "tags": []
   },
   "outputs": [],
   "source": [
    "# # summarize history for accuracy\n",
    "# plt.plot(history.history['accuracy'])\n",
    "# plt.plot(history.history['val_accuracy'])\n",
    "# plt.title('model accuracy')\n",
    "# plt.ylabel('accuracy')\n",
    "# plt.xlabel('epoch')\n",
    "# plt.legend(['train', 'test'], loc='upper left')\n",
    "# plt.show()\n",
    "# # summarize history for loss\n",
    "# plt.plot(history.history['loss'])\n",
    "# plt.plot(history.history['val_loss'])\n",
    "# plt.title('model loss')\n",
    "# plt.ylabel('loss')\n",
    "# plt.xlabel('epoch')\n",
    "# plt.legend(['train', 'test'], loc='upper left')\n",
    "# plt.show()"
   ]
  },
  {
   "cell_type": "code",
   "execution_count": 12,
   "id": "73e730d9",
   "metadata": {
    "execution": {
     "iopub.execute_input": "2024-05-25T14:42:13.487927Z",
     "iopub.status.busy": "2024-05-25T14:42:13.487654Z",
     "iopub.status.idle": "2024-05-25T14:42:13.491307Z",
     "shell.execute_reply": "2024-05-25T14:42:13.490542Z"
    },
    "papermill": {
     "duration": 0.01559,
     "end_time": "2024-05-25T14:42:13.493124",
     "exception": false,
     "start_time": "2024-05-25T14:42:13.477534",
     "status": "completed"
    },
    "tags": []
   },
   "outputs": [],
   "source": [
    "\n",
    "# Model Resnet"
   ]
  },
  {
   "cell_type": "code",
   "execution_count": 13,
   "id": "27ff90e2",
   "metadata": {
    "execution": {
     "iopub.execute_input": "2024-05-25T14:42:13.512557Z",
     "iopub.status.busy": "2024-05-25T14:42:13.512311Z",
     "iopub.status.idle": "2024-05-25T14:42:13.515998Z",
     "shell.execute_reply": "2024-05-25T14:42:13.515215Z"
    },
    "papermill": {
     "duration": 0.015654,
     "end_time": "2024-05-25T14:42:13.518022",
     "exception": false,
     "start_time": "2024-05-25T14:42:13.502368",
     "status": "completed"
    },
    "tags": []
   },
   "outputs": [],
   "source": [
    "# # Model Resnet101v2\n",
    "# base_model=tf.keras.applications.ResNet101V2(\n",
    "#     include_top=False,\n",
    "#     weights='imagenet',\n",
    "#     input_shape=(img_width,img_height,3),\n",
    "# )\n",
    "  "
   ]
  },
  {
   "cell_type": "code",
   "execution_count": 14,
   "id": "506a7fab",
   "metadata": {
    "execution": {
     "iopub.execute_input": "2024-05-25T14:42:13.538388Z",
     "iopub.status.busy": "2024-05-25T14:42:13.537659Z",
     "iopub.status.idle": "2024-05-25T14:42:13.541104Z",
     "shell.execute_reply": "2024-05-25T14:42:13.540382Z"
    },
    "papermill": {
     "duration": 0.015553,
     "end_time": "2024-05-25T14:42:13.542985",
     "exception": false,
     "start_time": "2024-05-25T14:42:13.527432",
     "status": "completed"
    },
    "tags": []
   },
   "outputs": [],
   "source": [
    "# base_model.trainable=False"
   ]
  },
  {
   "cell_type": "code",
   "execution_count": 15,
   "id": "c4c1db8f",
   "metadata": {
    "execution": {
     "iopub.execute_input": "2024-05-25T14:42:13.563032Z",
     "iopub.status.busy": "2024-05-25T14:42:13.562787Z",
     "iopub.status.idle": "2024-05-25T14:42:13.566668Z",
     "shell.execute_reply": "2024-05-25T14:42:13.565889Z"
    },
    "papermill": {
     "duration": 0.016058,
     "end_time": "2024-05-25T14:42:13.568441",
     "exception": false,
     "start_time": "2024-05-25T14:42:13.552383",
     "status": "completed"
    },
    "tags": []
   },
   "outputs": [],
   "source": [
    "# # building the model\n",
    "\n",
    "# inputs=keras.Input((img_width,img_height,3))\n",
    "\n",
    "# base_model=base_model(inputs,training=False)\n",
    "# # Add GlobalAveragePooling2D layer\n",
    "# avg_pool=tf.keras.layers.GlobalAveragePooling2D()(base_model)\n",
    "\n",
    "# layer=tf.keras.layers.Dense(units=128,activation='relu')(avg_pool)\n",
    "\n",
    "# outputs=tf.keras.layers.Dense(23,activation='softmax')(layer)\n",
    "\n",
    "# model=tf.keras.Model(inputs,outputs)\n",
    "# model.compile(optimizer=tf.keras.optimizers.Adam(0.0001),loss=tf.keras.losses.CategoricalFocalCrossentropy(from_logits=False),metrics=['accuracy'])\n",
    "# model.summary()"
   ]
  },
  {
   "cell_type": "code",
   "execution_count": 16,
   "id": "66b8ad8e",
   "metadata": {
    "execution": {
     "iopub.execute_input": "2024-05-25T14:42:13.588112Z",
     "iopub.status.busy": "2024-05-25T14:42:13.587843Z",
     "iopub.status.idle": "2024-05-25T14:42:13.591310Z",
     "shell.execute_reply": "2024-05-25T14:42:13.590551Z"
    },
    "papermill": {
     "duration": 0.015383,
     "end_time": "2024-05-25T14:42:13.593114",
     "exception": false,
     "start_time": "2024-05-25T14:42:13.577731",
     "status": "completed"
    },
    "tags": []
   },
   "outputs": [],
   "source": [
    "# history=model.fit(train_dataset,batch_size=batch_size,epochs=epochs,validation_data=val_dataset,callbacks=[rp])\n"
   ]
  },
  {
   "cell_type": "code",
   "execution_count": 17,
   "id": "cd24751c",
   "metadata": {
    "execution": {
     "iopub.execute_input": "2024-05-25T14:42:13.612742Z",
     "iopub.status.busy": "2024-05-25T14:42:13.612453Z",
     "iopub.status.idle": "2024-05-25T14:42:13.616308Z",
     "shell.execute_reply": "2024-05-25T14:42:13.615541Z"
    },
    "papermill": {
     "duration": 0.015609,
     "end_time": "2024-05-25T14:42:13.618144",
     "exception": false,
     "start_time": "2024-05-25T14:42:13.602535",
     "status": "completed"
    },
    "tags": []
   },
   "outputs": [],
   "source": [
    "# summarize history for accuracy\n",
    "# plt.plot(history.history['accuracy'])\n",
    "# plt.plot(history.history['val_accuracy'])\n",
    "# plt.title('Resnet101v2 accuracy')\n",
    "# plt.ylabel('accuracy')\n",
    "# plt.xlabel('epoch')\n",
    "# plt.legend(['train', 'test'], loc='upper left')\n",
    "# plt.show()\n",
    "# # summarize history for loss\n",
    "# plt.plot(history.history['loss'])\n",
    "# plt.plot(history.history['val_loss'])\n",
    "# plt.title('Resnet101v2 loss')\n",
    "# plt.ylabel('loss')\n",
    "# plt.xlabel('epoch')\n",
    "# plt.legend(['train', 'test'], loc='upper left')\n",
    "# plt.show()"
   ]
  },
  {
   "cell_type": "code",
   "execution_count": null,
   "id": "c16046ac",
   "metadata": {
    "papermill": {
     "duration": 0.009273,
     "end_time": "2024-05-25T14:42:13.636632",
     "exception": false,
     "start_time": "2024-05-25T14:42:13.627359",
     "status": "completed"
    },
    "tags": []
   },
   "outputs": [],
   "source": []
  },
  {
   "cell_type": "code",
   "execution_count": 18,
   "id": "e859a84a",
   "metadata": {
    "execution": {
     "iopub.execute_input": "2024-05-25T14:42:13.656075Z",
     "iopub.status.busy": "2024-05-25T14:42:13.655840Z",
     "iopub.status.idle": "2024-05-25T14:42:13.659377Z",
     "shell.execute_reply": "2024-05-25T14:42:13.658542Z"
    },
    "papermill": {
     "duration": 0.015541,
     "end_time": "2024-05-25T14:42:13.661354",
     "exception": false,
     "start_time": "2024-05-25T14:42:13.645813",
     "status": "completed"
    },
    "tags": []
   },
   "outputs": [],
   "source": [
    "# Model Resnet101v2\n",
    "# base_model=tf.keras.applications.ResNet152V2(\n",
    "#     include_top=False,\n",
    "#     weights='imagenet',\n",
    "#     input_shape=(img_width,img_height,3),\n",
    "# )"
   ]
  },
  {
   "cell_type": "code",
   "execution_count": 19,
   "id": "2530a93f",
   "metadata": {
    "execution": {
     "iopub.execute_input": "2024-05-25T14:42:13.681341Z",
     "iopub.status.busy": "2024-05-25T14:42:13.680800Z",
     "iopub.status.idle": "2024-05-25T14:42:13.684753Z",
     "shell.execute_reply": "2024-05-25T14:42:13.683851Z"
    },
    "papermill": {
     "duration": 0.015878,
     "end_time": "2024-05-25T14:42:13.686593",
     "exception": false,
     "start_time": "2024-05-25T14:42:13.670715",
     "status": "completed"
    },
    "tags": []
   },
   "outputs": [],
   "source": [
    "# base_model.trainable=False\n",
    "# # building the model\n",
    "\n",
    "# inputs=keras.Input((img_width,img_height,3))\n",
    "\n",
    "# base_model=base_model(inputs,training=False)\n",
    "# # Add GlobalAveragePooling2D layer\n",
    "# avg_pool=tf.keras.layers.GlobalAveragePooling2D()(base_model)\n",
    "\n",
    "# layer=tf.keras.layers.Dense(units=128,activation='relu')(avg_pool)\n",
    "\n",
    "# outputs=tf.keras.layers.Dense(23,activation='softmax')(layer)\n",
    "\n",
    "# model=tf.keras.Model(inputs,outputs)\n",
    "# model.compile(optimizer=tf.keras.optimizers.Adam(0.0001),loss=tf.keras.losses.CategoricalFocalCrossentropy(from_logits=False),metrics=['accuracy'])\n",
    "# model.summary()"
   ]
  },
  {
   "cell_type": "code",
   "execution_count": 20,
   "id": "03c54ac8",
   "metadata": {
    "execution": {
     "iopub.execute_input": "2024-05-25T14:42:13.706257Z",
     "iopub.status.busy": "2024-05-25T14:42:13.706023Z",
     "iopub.status.idle": "2024-05-25T14:42:13.709556Z",
     "shell.execute_reply": "2024-05-25T14:42:13.708744Z"
    },
    "papermill": {
     "duration": 0.015508,
     "end_time": "2024-05-25T14:42:13.711386",
     "exception": false,
     "start_time": "2024-05-25T14:42:13.695878",
     "status": "completed"
    },
    "tags": []
   },
   "outputs": [],
   "source": [
    "# history=model.fit(train_dataset,batch_size=batch_size,epochs=epochs,validation_data=val_dataset,callbacks=[rp])\n"
   ]
  },
  {
   "cell_type": "code",
   "execution_count": 21,
   "id": "462a43c5",
   "metadata": {
    "execution": {
     "iopub.execute_input": "2024-05-25T14:42:13.731084Z",
     "iopub.status.busy": "2024-05-25T14:42:13.730577Z",
     "iopub.status.idle": "2024-05-25T14:42:13.734338Z",
     "shell.execute_reply": "2024-05-25T14:42:13.733560Z"
    },
    "papermill": {
     "duration": 0.015512,
     "end_time": "2024-05-25T14:42:13.736156",
     "exception": false,
     "start_time": "2024-05-25T14:42:13.720644",
     "status": "completed"
    },
    "tags": []
   },
   "outputs": [],
   "source": [
    "# # summarize history for accuracy\n",
    "# plt.plot(history.history['accuracy'])\n",
    "# plt.plot(history.history['val_accuracy'])\n",
    "# plt.title('Resnet152v2 accuracy')\n",
    "# plt.ylabel('accuracy')\n",
    "# plt.xlabel('epoch')\n",
    "# plt.legend(['train', 'test'], loc='upper left')\n",
    "# plt.show()\n",
    "# # summarize history for loss\n",
    "# plt.plot(history.history['loss'])\n",
    "# plt.plot(history.history['val_loss'])\n",
    "# plt.title('Resnet152v2 loss')\n",
    "# plt.ylabel('loss')\n",
    "# plt.xlabel('epoch')\n",
    "# plt.legend(['train', 'test'], loc='upper left')\n",
    "# plt.show()"
   ]
  },
  {
   "cell_type": "code",
   "execution_count": 22,
   "id": "34f77076",
   "metadata": {
    "execution": {
     "iopub.execute_input": "2024-05-25T14:42:13.755558Z",
     "iopub.status.busy": "2024-05-25T14:42:13.755287Z",
     "iopub.status.idle": "2024-05-25T14:42:13.758716Z",
     "shell.execute_reply": "2024-05-25T14:42:13.757921Z"
    },
    "papermill": {
     "duration": 0.015091,
     "end_time": "2024-05-25T14:42:13.760501",
     "exception": false,
     "start_time": "2024-05-25T14:42:13.745410",
     "status": "completed"
    },
    "tags": []
   },
   "outputs": [],
   "source": [
    "\n",
    "# Yolov8"
   ]
  },
  {
   "cell_type": "code",
   "execution_count": 23,
   "id": "e1921b79",
   "metadata": {
    "execution": {
     "iopub.execute_input": "2024-05-25T14:42:13.780110Z",
     "iopub.status.busy": "2024-05-25T14:42:13.779869Z",
     "iopub.status.idle": "2024-05-25T14:42:13.783484Z",
     "shell.execute_reply": "2024-05-25T14:42:13.782663Z"
    },
    "papermill": {
     "duration": 0.015784,
     "end_time": "2024-05-25T14:42:13.785432",
     "exception": false,
     "start_time": "2024-05-25T14:42:13.769648",
     "status": "completed"
    },
    "tags": []
   },
   "outputs": [],
   "source": [
    "# !pip install ultralytics"
   ]
  },
  {
   "cell_type": "code",
   "execution_count": 24,
   "id": "e6b5aeee",
   "metadata": {
    "execution": {
     "iopub.execute_input": "2024-05-25T14:42:13.804965Z",
     "iopub.status.busy": "2024-05-25T14:42:13.804727Z",
     "iopub.status.idle": "2024-05-25T14:42:13.808144Z",
     "shell.execute_reply": "2024-05-25T14:42:13.807335Z"
    },
    "papermill": {
     "duration": 0.015097,
     "end_time": "2024-05-25T14:42:13.809943",
     "exception": false,
     "start_time": "2024-05-25T14:42:13.794846",
     "status": "completed"
    },
    "tags": []
   },
   "outputs": [],
   "source": [
    "# from ultralytics import YOLO"
   ]
  },
  {
   "cell_type": "code",
   "execution_count": 25,
   "id": "1b6c0668",
   "metadata": {
    "execution": {
     "iopub.execute_input": "2024-05-25T14:42:13.829399Z",
     "iopub.status.busy": "2024-05-25T14:42:13.829159Z",
     "iopub.status.idle": "2024-05-25T14:42:13.832612Z",
     "shell.execute_reply": "2024-05-25T14:42:13.831777Z"
    },
    "papermill": {
     "duration": 0.015331,
     "end_time": "2024-05-25T14:42:13.834563",
     "exception": false,
     "start_time": "2024-05-25T14:42:13.819232",
     "status": "completed"
    },
    "tags": []
   },
   "outputs": [],
   "source": [
    "# name = 'yolo_v8'\n",
    "# imgsz = 640"
   ]
  },
  {
   "cell_type": "code",
   "execution_count": 26,
   "id": "7f0699d9",
   "metadata": {
    "execution": {
     "iopub.execute_input": "2024-05-25T14:42:13.854821Z",
     "iopub.status.busy": "2024-05-25T14:42:13.854565Z",
     "iopub.status.idle": "2024-05-25T14:42:13.858529Z",
     "shell.execute_reply": "2024-05-25T14:42:13.857676Z"
    },
    "papermill": {
     "duration": 0.016727,
     "end_time": "2024-05-25T14:42:13.860431",
     "exception": false,
     "start_time": "2024-05-25T14:42:13.843704",
     "status": "completed"
    },
    "tags": []
   },
   "outputs": [],
   "source": [
    "# # Define YOLO model\n",
    "# yolo_model = YOLO('yolov8m-cls') # Change 42 to the number of classes you have\n",
    "\n",
    "# # Compile the model\n",
    "# yolo_model.info()\n",
    "\n",
    "\n",
    "# # Train the model\n",
    "# yolo_model.train(data='/kaggle/working/ForYolo',\n",
    "#                  imgsz=imgsz,\n",
    "#                  epochs=epochs,\n",
    "#                  batch=batch_size\n",
    "#                  )"
   ]
  },
  {
   "cell_type": "code",
   "execution_count": 27,
   "id": "d229d7b5",
   "metadata": {
    "execution": {
     "iopub.execute_input": "2024-05-25T14:42:13.880253Z",
     "iopub.status.busy": "2024-05-25T14:42:13.879622Z",
     "iopub.status.idle": "2024-05-25T14:42:13.883235Z",
     "shell.execute_reply": "2024-05-25T14:42:13.882448Z"
    },
    "papermill": {
     "duration": 0.015534,
     "end_time": "2024-05-25T14:42:13.885154",
     "exception": false,
     "start_time": "2024-05-25T14:42:13.869620",
     "status": "completed"
    },
    "tags": []
   },
   "outputs": [],
   "source": [
    "# # Model VGG16\n",
    "# base_model=tf.keras.applications.VGG16(\n",
    "#     include_top=False,\n",
    "#     weights='imagenet',\n",
    "#     input_shape=(img_width,img_height,3),\n",
    "# )"
   ]
  },
  {
   "cell_type": "code",
   "execution_count": 28,
   "id": "34ca97ad",
   "metadata": {
    "execution": {
     "iopub.execute_input": "2024-05-25T14:42:13.904889Z",
     "iopub.status.busy": "2024-05-25T14:42:13.904652Z",
     "iopub.status.idle": "2024-05-25T14:42:13.908976Z",
     "shell.execute_reply": "2024-05-25T14:42:13.907888Z"
    },
    "papermill": {
     "duration": 0.016408,
     "end_time": "2024-05-25T14:42:13.910988",
     "exception": false,
     "start_time": "2024-05-25T14:42:13.894580",
     "status": "completed"
    },
    "tags": []
   },
   "outputs": [],
   "source": [
    "# base_model.trainable=False\n",
    "# # building the model\n",
    "\n",
    "# inputs=keras.Input((img_width,img_height,3))\n",
    "\n",
    "# base_model=base_model(inputs,training=False)\n",
    "# # Add GlobalAveragePooling2D layer\n",
    "# avg_pool=tf.keras.layers.GlobalAveragePooling2D()(base_model)\n",
    "\n",
    "# layer=tf.keras.layers.Dense(units=128,activation='relu')(avg_pool)\n",
    "\n",
    "# outputs=tf.keras.layers.Dense(23,activation='softmax')(layer)\n",
    "\n",
    "# model=tf.keras.Model(inputs,outputs)\n",
    "# model.compile(optimizer=tf.keras.optimizers.Adam(0.0001),loss=tf.keras.losses.CategoricalFocalCrossentropy(from_logits=False),metrics=['accuracy'])\n",
    "# model.summary()"
   ]
  },
  {
   "cell_type": "code",
   "execution_count": 29,
   "id": "8d95b7a1",
   "metadata": {
    "execution": {
     "iopub.execute_input": "2024-05-25T14:42:13.930564Z",
     "iopub.status.busy": "2024-05-25T14:42:13.930292Z",
     "iopub.status.idle": "2024-05-25T14:42:13.933988Z",
     "shell.execute_reply": "2024-05-25T14:42:13.933134Z"
    },
    "papermill": {
     "duration": 0.015652,
     "end_time": "2024-05-25T14:42:13.935854",
     "exception": false,
     "start_time": "2024-05-25T14:42:13.920202",
     "status": "completed"
    },
    "tags": []
   },
   "outputs": [],
   "source": [
    "# history=model.fit(train_dataset,batch_size=batch_size,epochs=epochs,validation_data=val_dataset,callbacks=[rp])\n"
   ]
  },
  {
   "cell_type": "code",
   "execution_count": 30,
   "id": "23066377",
   "metadata": {
    "execution": {
     "iopub.execute_input": "2024-05-25T14:42:13.955399Z",
     "iopub.status.busy": "2024-05-25T14:42:13.955139Z",
     "iopub.status.idle": "2024-05-25T14:42:13.959942Z",
     "shell.execute_reply": "2024-05-25T14:42:13.959282Z"
    },
    "papermill": {
     "duration": 0.016609,
     "end_time": "2024-05-25T14:42:13.961724",
     "exception": false,
     "start_time": "2024-05-25T14:42:13.945115",
     "status": "completed"
    },
    "tags": []
   },
   "outputs": [],
   "source": [
    "# # summarize history for accuracy\n",
    "# plt.plot(history.history['accuracy'])\n",
    "# plt.plot(history.history['val_accuracy'])\n",
    "# plt.title('VGG16 accuracy')\n",
    "# plt.ylabel('accuracy')\n",
    "# plt.xlabel('epoch')\n",
    "# plt.legend(['train', 'test'], loc='upper left')\n",
    "# plt.show()\n",
    "# # summarize history for loss\n",
    "# plt.plot(history.history['loss'])\n",
    "# plt.plot(history.history['val_loss'])\n",
    "# plt.title('VGG16 loss')\n",
    "# plt.ylabel('loss')\n",
    "# plt.xlabel('epoch')\n",
    "# plt.legend(['train', 'test'], loc='upper left')\n",
    "# plt.show()"
   ]
  },
  {
   "cell_type": "code",
   "execution_count": 31,
   "id": "ca1fdf71",
   "metadata": {
    "execution": {
     "iopub.execute_input": "2024-05-25T14:42:13.981294Z",
     "iopub.status.busy": "2024-05-25T14:42:13.981038Z",
     "iopub.status.idle": "2024-05-25T14:42:13.984471Z",
     "shell.execute_reply": "2024-05-25T14:42:13.983742Z"
    },
    "papermill": {
     "duration": 0.015335,
     "end_time": "2024-05-25T14:42:13.986400",
     "exception": false,
     "start_time": "2024-05-25T14:42:13.971065",
     "status": "completed"
    },
    "tags": []
   },
   "outputs": [],
   "source": [
    "# # Model VGG19\n",
    "# base_model=tf.keras.applications.VGG19(\n",
    "#     include_top=False,\n",
    "#     weights='imagenet',\n",
    "#     input_shape=(img_width,img_height,3),\n",
    "# )"
   ]
  },
  {
   "cell_type": "code",
   "execution_count": 32,
   "id": "81fbbd38",
   "metadata": {
    "execution": {
     "iopub.execute_input": "2024-05-25T14:42:14.006422Z",
     "iopub.status.busy": "2024-05-25T14:42:14.006175Z",
     "iopub.status.idle": "2024-05-25T14:42:14.010027Z",
     "shell.execute_reply": "2024-05-25T14:42:14.009173Z"
    },
    "papermill": {
     "duration": 0.015798,
     "end_time": "2024-05-25T14:42:14.011842",
     "exception": false,
     "start_time": "2024-05-25T14:42:13.996044",
     "status": "completed"
    },
    "tags": []
   },
   "outputs": [],
   "source": [
    "# base_model.trainable=False\n",
    "# # building the model\n",
    "\n",
    "# inputs=keras.Input((img_width,img_height,3))\n",
    "\n",
    "# base_model=base_model(inputs,training=False)\n",
    "# # Add GlobalAveragePooling2D layer\n",
    "# avg_pool=tf.keras.layers.GlobalAveragePooling2D()(base_model)\n",
    "\n",
    "# layer=tf.keras.layers.Dense(units=128,activation='relu')(avg_pool)\n",
    "\n",
    "# outputs=tf.keras.layers.Dense(23,activation='softmax')(layer)\n",
    "\n",
    "# model=tf.keras.Model(inputs,outputs)\n",
    "# model.compile(optimizer=tf.keras.optimizers.Adam(0.0001),loss=tf.keras.losses.CategoricalFocalCrossentropy(from_logits=False),metrics=['accuracy'])\n",
    "# model.summary()"
   ]
  },
  {
   "cell_type": "code",
   "execution_count": 33,
   "id": "1b606b72",
   "metadata": {
    "execution": {
     "iopub.execute_input": "2024-05-25T14:42:14.032010Z",
     "iopub.status.busy": "2024-05-25T14:42:14.031735Z",
     "iopub.status.idle": "2024-05-25T14:42:14.036180Z",
     "shell.execute_reply": "2024-05-25T14:42:14.035490Z"
    },
    "papermill": {
     "duration": 0.016406,
     "end_time": "2024-05-25T14:42:14.038010",
     "exception": false,
     "start_time": "2024-05-25T14:42:14.021604",
     "status": "completed"
    },
    "tags": []
   },
   "outputs": [],
   "source": [
    "# history=model.fit(train_dataset,batch_size=batch_size,epochs=epochs,validation_data=val_dataset,callbacks=[rp])"
   ]
  },
  {
   "cell_type": "code",
   "execution_count": 34,
   "id": "b62c22cf",
   "metadata": {
    "execution": {
     "iopub.execute_input": "2024-05-25T14:42:14.058112Z",
     "iopub.status.busy": "2024-05-25T14:42:14.057773Z",
     "iopub.status.idle": "2024-05-25T14:42:14.062131Z",
     "shell.execute_reply": "2024-05-25T14:42:14.061286Z"
    },
    "papermill": {
     "duration": 0.016802,
     "end_time": "2024-05-25T14:42:14.064087",
     "exception": false,
     "start_time": "2024-05-25T14:42:14.047285",
     "status": "completed"
    },
    "tags": []
   },
   "outputs": [],
   "source": [
    "# # summarize history for accuracy\n",
    "# plt.plot(history.history['accuracy'])\n",
    "# plt.plot(history.history['val_accuracy'])\n",
    "# plt.title('VGG19 accuracy')\n",
    "# plt.ylabel('accuracy')\n",
    "# plt.xlabel('epoch')\n",
    "# plt.legend(['train', 'test'], loc='upper left')\n",
    "# plt.show()\n",
    "# # summarize history for loss\n",
    "# plt.plot(history.history['loss'])\n",
    "# plt.plot(history.history['val_loss'])\n",
    "# plt.title('VGG19 loss')\n",
    "# plt.ylabel('loss')\n",
    "# plt.xlabel('epoch')\n",
    "# plt.legend(['train', 'test'], loc='upper left')\n",
    "# plt.show()"
   ]
  },
  {
   "cell_type": "code",
   "execution_count": null,
   "id": "5c85807e",
   "metadata": {
    "papermill": {
     "duration": 0.009567,
     "end_time": "2024-05-25T14:42:14.083360",
     "exception": false,
     "start_time": "2024-05-25T14:42:14.073793",
     "status": "completed"
    },
    "tags": []
   },
   "outputs": [],
   "source": []
  }
 ],
 "metadata": {
  "kaggle": {
   "accelerator": "nvidiaTeslaT4",
   "dataSources": [
    {
     "datasetId": 5041741,
     "sourceId": 8458548,
     "sourceType": "datasetVersion"
    }
   ],
   "dockerImageVersionId": 30699,
   "isGpuEnabled": true,
   "isInternetEnabled": true,
   "language": "python",
   "sourceType": "notebook"
  },
  "kernelspec": {
   "display_name": "Python 3",
   "language": "python",
   "name": "python3"
  },
  "language_info": {
   "codemirror_mode": {
    "name": "ipython",
    "version": 3
   },
   "file_extension": ".py",
   "mimetype": "text/x-python",
   "name": "python",
   "nbconvert_exporter": "python",
   "pygments_lexer": "ipython3",
   "version": "3.10.13"
  },
  "papermill": {
   "default_parameters": {},
   "duration": 20.254926,
   "end_time": "2024-05-25T14:42:16.437756",
   "environment_variables": {},
   "exception": null,
   "input_path": "__notebook__.ipynb",
   "output_path": "__notebook__.ipynb",
   "parameters": {},
   "start_time": "2024-05-25T14:41:56.182830",
   "version": "2.5.0"
  }
 },
 "nbformat": 4,
 "nbformat_minor": 5
}
